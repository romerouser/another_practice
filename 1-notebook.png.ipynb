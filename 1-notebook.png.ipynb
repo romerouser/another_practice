{
 "cells": [
  {
   "cell_type": "markdown",
   "metadata": {},
   "source": [
    "<center>\n",
    "    <img src=\"https://cf-courses-data.s3.us.cloud-object-storage.appdomain.cloud/IBMDeveloperSkillsNetwork-DS0105EN-SkillsNetwork/labs/Module2/images/SN_web_lightmode.png\" width=\"300\" alt=\"cognitiveclass.ai logo\">\n",
    "</center>\n"
   ]
  },
  {
   "cell_type": "markdown",
   "metadata": {},
   "source": [
    "#### Add your code below following the instructions given in the course\n"
   ]
  },
  {
   "cell_type": "markdown",
   "metadata": {},
   "source": [
    "# Final Proyect"
   ]
  },
  {
   "cell_type": "markdown",
   "metadata": {},
   "source": [
    "### Introduction\n",
    "This is an introductión of the IBM poject, where i have to creat a juptyter notebook with some features and demostrate my ability."
   ]
  },
  {
   "cell_type": "markdown",
   "metadata": {},
   "source": [
    "###### lenguages for Data Science.\n",
    "\n",
    "1. Python\n",
    "2. R\n",
    "3. SQL"
   ]
  },
  {
   "cell_type": "markdown",
   "metadata": {},
   "source": [
    "**Excercise # 5.**\n",
    "###### Libraries\n",
    "1. ggplot2\n",
    "2. keras\n",
    "3. scikit-learn\n",
    "4. tensorflow\n",
    "5. pandas\n",
    "6. numpy\n",
    "7. matplotlib.pyplot\n",
    "8. dplyr\n",
    "9. caret\n",
    "10. RambonForest"
   ]
  },
  {
   "cell_type": "markdown",
   "metadata": {},
   "source": [
    "**Excescise 6**\n",
    "###### Tool For Data Science\n",
    "1. Power BI\n",
    "2. IBM Watson Studio\n",
    "3. Tablou\n",
    "4. Jupyterlab\n",
    "5. Git\n",
    "6. GitHub\n",
    "7. VSCode\n",
    "8. pycharm\n",
    "9. mySQL\n",
    "10. microsoft SQL Server\n",
    "11. MongoDB\n",
    "12. Hadoop\n",
    "13. Rstudio\n",
    "14. apache spark"
   ]
  },
  {
   "cell_type": "markdown",
   "metadata": {},
   "source": [
    "**Excercise 7**\n",
    "Arithmetical Expressions\n",
    "+,-,%,//,/,**,*"
   ]
  },
  {
   "cell_type": "code",
   "execution_count": 13,
   "metadata": {},
   "outputs": [
    {
     "name": "stdout",
     "output_type": "stream",
     "text": [
      "18\n",
      "81\n"
     ]
    }
   ],
   "source": [
    "# Excercise 8\n",
    "print(9+9)\n",
    "print(9*9)"
   ]
  },
  {
   "cell_type": "code",
   "execution_count": 14,
   "metadata": {},
   "outputs": [
    {
     "name": "stdin",
     "output_type": "stream",
     "text": [
      "Into the minutes:  60\n"
     ]
    },
    {
     "name": "stdout",
     "output_type": "stream",
     "text": [
      "60.0 minutes son 1.0 hour/s\n"
     ]
    }
   ],
   "source": [
    "# Excecise 9\n",
    "minutos = float(input(\"Into the minutes: \"))\n",
    "horas = minutos/60\n",
    "print(\"{} minutes son {} hour/s\".format(minutos,horas))"
   ]
  },
  {
   "cell_type": "code",
   "execution_count": 18,
   "metadata": {},
   "outputs": [
    {
     "name": "stdout",
     "output_type": "stream",
     "text": [
      "Objetos en el entorno de trabajo: ['In', 'Out', '_', '__', '___', '__builtin__', '__builtins__', '__doc__', '__loader__', '__name__', '__package__', '__session__', '__spec__', '_dh', '_i', '_i1', '_i10', '_i11', '_i12', '_i13', '_i14', '_i15', '_i16', '_i17', '_i18', '_i2', '_i3', '_i4', '_i5', '_i6', '_i7', '_i8', '_i9', '_ih', '_ii', '_iii', '_oh', 'exit', 'get_ipython', 'horas', 'minutos', 'objetive_1', 'objetive_2', 'open', 'quit', 'x', 'y', 'z']\n"
     ]
    }
   ],
   "source": [
    "# Excercise 10\n",
    "x = 10\n",
    "y = 20\n",
    "z = x + y\n",
    "\n",
    "# Listar todos los objetos en el entorno de trabajo\n",
    "print(\"Objetos en el entorno de trabajo:\", dir())"
   ]
  },
  {
   "cell_type": "markdown",
   "metadata": {},
   "source": [
    "**Excercise 11**\n",
    "\n",
    "Nombre del autro: Cesar Romero"
   ]
  },
  {
   "cell_type": "code",
   "execution_count": null,
   "metadata": {},
   "outputs": [],
   "source": []
  }
 ],
 "metadata": {
  "kernelspec": {
   "display_name": "Python 3 (ipykernel)",
   "language": "python",
   "name": "python3"
  },
  "language_info": {
   "codemirror_mode": {
    "name": "ipython",
    "version": 3
   },
   "file_extension": ".py",
   "mimetype": "text/x-python",
   "name": "python",
   "nbconvert_exporter": "python",
   "pygments_lexer": "ipython3",
   "version": "3.11.9"
  }
 },
 "nbformat": 4,
 "nbformat_minor": 4
}
